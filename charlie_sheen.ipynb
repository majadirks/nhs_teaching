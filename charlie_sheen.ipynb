{
  "nbformat": 4,
  "nbformat_minor": 0,
  "metadata": {
    "colab": {
      "name": "charlie_sheen.ipynb",
      "provenance": [],
      "private_outputs": true,
      "collapsed_sections": [],
      "authorship_tag": "ABX9TyM3+ETVtZKWX4wazp/RTWie",
      "include_colab_link": true
    },
    "kernelspec": {
      "name": "python3",
      "display_name": "Python 3"
    }
  },
  "cells": [
    {
      "cell_type": "markdown",
      "metadata": {
        "id": "view-in-github",
        "colab_type": "text"
      },
      "source": [
        "<a href=\"https://colab.research.google.com/github/majadirks/nhs_teaching/blob/master/charlie_sheen.ipynb\" target=\"_parent\"><img src=\"https://colab.research.google.com/assets/colab-badge.svg\" alt=\"Open In Colab\"/></a>"
      ]
    },
    {
      "cell_type": "markdown",
      "metadata": {
        "id": "3etAP6PjytU4",
        "colab_type": "text"
      },
      "source": [
        "**Demo of using Desmos to graph data from a pandas DataFrame**\n",
        "\n"
      ]
    },
    {
      "cell_type": "markdown",
      "metadata": {
        "id": "Hp1j11eeXPcn",
        "colab_type": "text"
      },
      "source": [
        "On March 1, 2011, around 3pm, Charlie Sheen started a Twitter account. A math teacher named Mr. Krall [decided to track how many followers he had](https://emergentmath.com/2011/03/03/can-you-predict-how-many-followers-charliesheen-has-right-now-exponential-growth-part-1/), because that's what math teachers do.\n",
        "\n",
        "\n",
        "<img src=\"https://emergentmath.files.wordpress.com/2011/03/sheen2.png\" alt=\"At 4:07 pm on 3/1/11, Charlie Sheen had 112497 followers.\" height=\"234\" width=\"486\"></img>\n",
        "\n",
        "<img src=\"https://emergentmath.files.wordpress.com/2011/03/sheen141.png\" alt=\"At 6:12 pm on 3/1/11, Charlie Sheen had 261894 followers.  He tweeted, 'Winning! Choose your Vice...'\" height=\"234\" width=\"486\">\n"
      ]
    },
    {
      "cell_type": "code",
      "metadata": {
        "id": "KIv801DSGPey",
        "colab_type": "code",
        "cellView": "form",
        "colab": {}
      },
      "source": [
        "#@title Press the \"play\" button to see how many Twitter followers Charlie Sheen had at various times on March 1, 2011. (Or double-click this text to see Python code.)\n",
        "import pandas as pd\n",
        "from datetime import datetime\n",
        "import matplotlib.pyplot as plt\n",
        "\n",
        "# Headings\n",
        "MINS_ELAPSED = \"Minutes since 3pm\"\n",
        "FOLLOWERS = \"Follower Count\"\n",
        "\n",
        "# Load data of how many followers Charlie Sheen had\n",
        "# since starting his Twitter account in 2011\n",
        "# Source: https://emergentmath.com/2011/03/03/can-you-predict-how-many-followers-charliesheen-has-right-now-exponential-growth-part-1/\n",
        "\n",
        "datetimes_and_follower_counts=[\n",
        "# (\"2011-03-01 3:00 PM\", 0),  # Account created ~3pm\n",
        "(\"2011-03-01 4:04 PM\",109099),\n",
        "(\"2011-03-01 4:07 PM\",112497),\n",
        "(\"2011-03-01 4:09 PM\",116143),\n",
        "(\"2011-03-01 4:12 PM\",120195),\n",
        "(\"2011-03-01 4:14 PM\",122901),\n",
        "(\"2011-03-01 4:18 PM\",127643),\n",
        "(\"2011-03-01 4:21 PM\",129793),\n",
        "(\"2011-03-01 4:24 PM\",133357),\n",
        "(\"2011-03-01 4:29 PM\",140215),\n",
        "(\"2011-03-01 4:32 PM\",144103),\n",
        "(\"2011-03-01 4:38 PM\",149528),\n",
        "(\"2011-03-01 4:44 PM\",153848),\n",
        "(\"2011-03-01 6:21 PM\",261894),\n",
        "(\"2011-03-01 6:24 PM\",275638),\n",
        "(\"2011-03-01 6:49 PM\",302077),\n",
        "(\"2011-03-01 7:13 PM\",324595),\n",
        "(\"2011-03-01 7:38 PM\",348955),\n",
        "(\"2011-03-01 8:45 PM\",429904),\n",
        "(\"2011-03-02 6:45 AM\",729703),\n",
        "(\"2011-03-02 8:51 AM\",799008),\n",
        "(\"2011-03-02 9:36 AM\",820538),\n",
        "(\"2011-03-02 10:23 AM\",841940),\n",
        "(\"2011-03-02 11:16 AM\",865972),\n",
        "(\"2011-03-02 12:43 PM\",902291),\n",
        "(\"2011-03-02 1:47 PM\",926557),\n",
        "(\"2011-03-02 3:09 PM\",957259),\n",
        "(\"2011-03-03 11:31 AM\", 1297483),\n",
        "(\"2011-03-04 9:43 AM\", 1550073)\n",
        "# As I write this code, @charliesheen has 10.5 million followers,\n",
        "# but including that data point distorts the graph.\n",
        "# (\"2020-09-10 7:03 PM\", 10500000)\n",
        "]\n",
        "\n",
        "# Parse out datetimes and follower counts\n",
        "zipped_dts_and_fcs = list(zip(*datetimes_and_follower_counts))\n",
        "# Parse datetime objects from strings\n",
        "# dts = datetimes\n",
        "dts=[datetime.strptime(x, '%Y-%m-%d %I:%M %p') for x in zipped_dts_and_fcs[0]]\n",
        "fcs=zipped_dts_and_fcs[1] # follower counts\n",
        "assert len(dts) == len(fcs) # Make sure we have the same number of each\n",
        "\n",
        "# Store datetimes and follower counts in pandas Dataframe\n",
        "follower_data = pd.DataFrame(data=fcs, # follower ocunts\n",
        "                             index=dts, # datetimes\n",
        "                             columns=[FOLLOWERS])\n",
        "# Calculate minutes since 3pm on March 1st\n",
        "start_time=datetime(2011, 3, 1, hour = 15, minute = 0)\n",
        "minutes = (follower_data.index - start_time).total_seconds() / 60\n",
        "follower_data[MINS_ELAPSED] = minutes\n",
        "# Reorder columns\n",
        "follower_data = follower_data[[MINS_ELAPSED, FOLLOWERS]]\n",
        "\n",
        "\n",
        "# Create view for March 1 alone\n",
        "march1 = follower_data.truncate(after='2011-03-02') # ie 3/1/11 only\n",
        "print(march1)\n",
        "\n",
        "# Graph the March 1 data\n",
        "#plt.plot(march1[MINS_ELAPSED], march1[FOLLOWERS], 'o')\n",
        "#plt.xlabel('Minutes since 3pm on 3/1/11')\n",
        "#plt.ylabel(FOLLOWERS)\n",
        "#plt.show()"
      ],
      "execution_count": null,
      "outputs": []
    },
    {
      "cell_type": "code",
      "metadata": {
        "id": "M0FltwAsKkoA",
        "colab_type": "code",
        "cellView": "form",
        "colab": {}
      },
      "source": [
        "#@title Press the \"play\" button to see that March 1 data plotted on Desmos. There is also a very bad \"best fit\" function; try to make it better.\n",
        "import IPython\n",
        "\n",
        "# HTML and Javascript code for interacting with Desmos\n",
        "def make_html(bestfit, xs_as_strs, ys_as_strs,\n",
        "              xmin = 0, \n",
        "              xmax = 200000, \n",
        "              ymin = 50000,\n",
        "              ymax = 2000000):\n",
        "  # bestfit: A LaTeX string representing a best fit function\n",
        "  # xs: A list of LaTeX strings representing x values\n",
        "  # ys: similar to xs, but ys\n",
        "  # xmin, xmax, ymin, ymax: window settings for graph\n",
        "  assert len(xs) == len(ys), \"Dimension mismatch\"\n",
        "  return '''\n",
        "  <script src=\"https://www.desmos.com/api/v1.5/calculator.js?apiKey=dcb31709b452b1cf9dc26972add0fda6\"></script>\n",
        "  <div id=\"calculator\" style=\"width: 1200px; height: 400px;\"></div>\n",
        "  <script>\n",
        "      var elt = document.getElementById('calculator');\n",
        "      var calculator = Desmos.GraphingCalculator(elt);\n",
        "      \n",
        "  calculator.setExpression({ id: 'graph1', latex: \\'''' + bestfit + '''\\' });\n",
        "  calculator.setExpression({\n",
        "    type: 'table',\n",
        "    columns: [\n",
        "      {\n",
        "        latex: 'x',\n",
        "        values: ''' + str(xs_as_strs) + '''\n",
        "      },\n",
        "      {\n",
        "        latex: 'y',\n",
        "        values: ''' + str(ys_as_strs) + '''\n",
        "      }\n",
        "    ]\n",
        "  });\n",
        "\n",
        "  calculator.setMathBounds({\n",
        "    left: 0,\n",
        "    right: ''' + str(xmax) + ''',\n",
        "    bottom: ''' + str(ymin) + ''',\n",
        "    top: ''' + str(ymax) + ''',\n",
        "  });\n",
        "\n",
        "    </script>\n",
        "  '''\n",
        "\n",
        "# Convert x and y values to lists of strings,\n",
        "# because that's what the Desmos API expects\n",
        "xs = march1[MINS_ELAPSED].values\n",
        "xmin = 0\n",
        "xmax = max(xs) * 1.1\n",
        "xs_as_strs = [f'{int(x)}' for x in xs]\n",
        "ys = march1[FOLLOWERS].values\n",
        "ymin = 0\n",
        "ymax = max(ys) * 1.1\n",
        "ys_as_strs = [f'{int(y)}' for y in ys]\n",
        "\n",
        "# Display the HTML and thereby load Desmos\n",
        "html = make_html('f(x)=1800x', xs_as_strs, ys_as_strs, xmin, xmax, ymin, ymax)\n",
        "display(IPython.display.HTML(html))"
      ],
      "execution_count": null,
      "outputs": []
    },
    {
      "cell_type": "markdown",
      "metadata": {
        "id": "rLx1Ve_E8nrK",
        "colab_type": "text"
      },
      "source": [
        "1. (a) What type of function would best fit this data? Would this data be best represented as a linear function? Exponential function?\n",
        "\n",
        "   (b) Use the graphing calculator above to estimate a best-fit function for the data. How well does your function fit the data?"
      ]
    },
    {
      "cell_type": "markdown",
      "metadata": {
        "id": "shCfJnvym0c2",
        "colab_type": "text"
      },
      "source": [
        "Mr. Krall stopped checking Twitter around 8:45 pm, and started again the next day at 6:45 am. (Because why not?) Press the \"play\" button to see the data from both days."
      ]
    },
    {
      "cell_type": "code",
      "metadata": {
        "id": "hXezpkW7YoaO",
        "colab_type": "code",
        "cellView": "form",
        "colab": {}
      },
      "source": [
        "#@title Press the \"play\" button to see how many Twitter followers Charlie Sheen had at various times on March 1 and March 2, 2011\n",
        "\n",
        "# Create view for both March 1 and March 2\n",
        "march2 = follower_data.truncate(after='2011-03-03') # ie 3/1 and 3/2\n",
        "\n",
        "#Display data for both days\n",
        "print(march2)\n",
        "\n",
        "# Get xs and ys for Desmos\n",
        "xs = march2[MINS_ELAPSED].values\n",
        "xmin = 0\n",
        "xmax = max(xs) * 1.1\n",
        "xs_as_strs = [f'{int(x)}' for x in xs]\n",
        "ys = march2[FOLLOWERS].values\n",
        "ymin = 0\n",
        "ymax = max(ys) * 1.1\n",
        "ys_as_strs = [f'{int(y)}' for y in ys]\n",
        "\n",
        "# Graph all the data\n",
        "# plt.plot(march2[MINS_ELAPSED], march2[FOLLOWERS], 'o')\n",
        "# plt.xlabel('Minutes since 3pm on 3/1/11')\n",
        "# plt.ylabel(FOLLOWERS)\n",
        "#plt.show()\n",
        "html = make_html('f(x)=1800x', xs_as_strs, ys_as_strs, xmin, xmax, ymin, ymax)\n",
        "display(IPython.display.HTML(html))"
      ],
      "execution_count": null,
      "outputs": []
    },
    {
      "cell_type": "markdown",
      "metadata": {
        "id": "y-J6yUHz9GfF",
        "colab_type": "text"
      },
      "source": [
        "2. (a) Now that we have more data, does your answer from question 1 still seem like the best type of function to model this data? Why or why not? \n",
        "\n",
        "  (b) Find a \"best fit\" function that fits the data from both days reasonably well."
      ]
    },
    {
      "cell_type": "markdown",
      "metadata": {
        "id": "og2HFnIW5NE7",
        "colab_type": "text"
      },
      "source": [
        "Mr. Krall later added two more data points: \n",
        "\n",
        "*   On March 3 at 11:31 AM, Charlie Sheen had 1,297,483 followers. \n",
        "*   On March 4 at 9:43 AM, Charlie Sheen had 1,550,073 followers\n",
        "\n"
      ]
    },
    {
      "cell_type": "code",
      "metadata": {
        "id": "vmWgWK5j48LL",
        "colab_type": "code",
        "cellView": "form",
        "colab": {}
      },
      "source": [
        "#@title Press the \"play\" button to see how many Twitter followers Charlie Sheen had from March 1 to March 4, 2011\n",
        "\n",
        "#Display data for all days\n",
        "print(follower_data)\n",
        "\n",
        "# Get xs and ys for Desmos\n",
        "xs = follower_data[MINS_ELAPSED].values\n",
        "xmin = 0\n",
        "xmax = max(xs) * 1.1\n",
        "xs_as_strs = [f'{int(x)}' for x in xs]\n",
        "ys = follower_data[FOLLOWERS].values\n",
        "ymin = 0\n",
        "ymax = max(ys) * 1.1\n",
        "ys_as_strs = [f'{int(y)}' for y in ys]\n",
        "\n",
        "# Graph all the data\n",
        "#plt.plot(follower_data[MINS_ELAPSED], follower_data[FOLLOWERS], 'o')\n",
        "#plt.xlabel('Minutes since 3pm on 3/1/11')\n",
        "#plt.ylabel(FOLLOWERS)\n",
        "#plt.show()\n",
        "html = make_html('f(x)=1800x', xs_as_strs, ys_as_strs, xmin, xmax, ymin, ymax)\n",
        "display(IPython.display.HTML(html))"
      ],
      "execution_count": null,
      "outputs": []
    },
    {
      "cell_type": "markdown",
      "metadata": {
        "id": "naNR6X3E9SN_",
        "colab_type": "text"
      },
      "source": [
        "2. (a) Now that we have more data, does your answer from question 2 still seem like the best type of function to model this data? Why or why not? \n",
        "\n",
        "  (b) Find a \"best fit\" function that fits the data from all four days reasonably well."
      ]
    },
    {
      "cell_type": "markdown",
      "metadata": {
        "id": "QAXyZxD997GO",
        "colab_type": "text"
      },
      "source": [
        "It looks like, as time goes on, Charlie Sheen gains fewer followers per day. Let's analyze the **slope** of this line over time; that might help us predict where his follower count is heading!\n",
        "\n",
        "Let's try to create a graph of  (Change-in-followers per minute) vs. (time)."
      ]
    },
    {
      "cell_type": "code",
      "metadata": {
        "id": "0OFuRDi4-RdD",
        "colab_type": "code",
        "cellView": "form",
        "colab": {}
      },
      "source": [
        "#@title Press the \"Play\" button to see how the slope (change-in-followers per minute) changes over time\n",
        "DELTAS = \"Change in Followers\"\n",
        "CHANGE_PER_MIN = \"Change in Followers Per Minute\"\n",
        "# DELTAS = current follower count - previous follower count\n",
        "follower_data[DELTAS] = follower_data[FOLLOWERS] -\\\n",
        "                         follower_data[FOLLOWERS].shift(1)\n",
        "# CHANGE_PER_MIN = (change in followers) / \n",
        "#                       (minutes elapsed since last measurement)\n",
        "follower_data[CHANGE_PER_MIN] = follower_data[DELTAS].div(\n",
        "    follower_data[MINS_ELAPSED] - follower_data[MINS_ELAPSED].shift(1))\n",
        "# Print the data\n",
        "print(follower_data[[MINS_ELAPSED, CHANGE_PER_MIN]])\n",
        "\n",
        "\n",
        "# Get xs and ys for Desmos\n",
        "xs = follower_data[MINS_ELAPSED].values[1:] # Eliminate leading NaN\n",
        "xmin = 0\n",
        "xmax = max(xs) * 1.1 \n",
        "xs_as_strs = [f'{int(x)}' for x in xs]\n",
        "ys = follower_data[CHANGE_PER_MIN].values[1:] # Match xs\n",
        "ymin = 0\n",
        "ymax = max(ys) * 1.1\n",
        "ys_as_strs = [f'{int(y)}' for y in ys]\n",
        "\n",
        "# Plot the slopes\n",
        "#plt.plot(follower_data[MINS_ELAPSED],\n",
        "#         follower_data[CHANGE_PER_MIN],\n",
        "#         'o')\n",
        "#plt.xlabel(\"Minutes since 3pm on 3/1/2011\")\n",
        "#plt.ylabel(\"Change in follower count per minute\")\n",
        "#plt.show()\n",
        "\n",
        "html = make_html(r'f(x)=550', xs_as_strs, ys_as_strs, xmin, xmax, ymin, ymax)\n",
        "display(IPython.display.HTML(html))"
      ],
      "execution_count": null,
      "outputs": []
    },
    {
      "cell_type": "markdown",
      "metadata": {
        "id": "EFXxqSoOE-Sj",
        "colab_type": "text"
      },
      "source": [
        "3. The y-values get smaller and smaller as time goes on. Why is that? Explain what this graph \"means.\"\n",
        "\n",
        "4. What type of function might we use to model this data?"
      ]
    }
  ]
}