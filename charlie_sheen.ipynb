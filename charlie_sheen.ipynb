{
  "nbformat": 4,
  "nbformat_minor": 0,
  "metadata": {
    "colab": {
      "name": "charlie_sheen.ipynb",
      "provenance": [],
      "collapsed_sections": [],
      "authorship_tag": "ABX9TyPdYqFEPF4zy6wwk+94vGm4",
      "include_colab_link": true
    },
    "kernelspec": {
      "name": "python3",
      "display_name": "Python 3"
    }
  },
  "cells": [
    {
      "cell_type": "markdown",
      "metadata": {
        "id": "view-in-github",
        "colab_type": "text"
      },
      "source": [
        "<a href=\"https://colab.research.google.com/github/majadirks/nhs_teaching/blob/master/charlie_sheen.ipynb\" target=\"_parent\"><img src=\"https://colab.research.google.com/assets/colab-badge.svg\" alt=\"Open In Colab\"/></a>"
      ]
    },
    {
      "cell_type": "markdown",
      "metadata": {
        "id": "Hp1j11eeXPcn",
        "colab_type": "text"
      },
      "source": [
        "On March 1, 2011, around 3pm, Charlie Sheen started a Twitter account. The math teacher Geoff Krall [decided to track how many followers he had](https://emergentmath.com/2011/03/03/can-you-predict-how-many-followers-charliesheen-has-right-now-exponential-growth-part-1/), because that's what math teachers do.\n",
        "\n",
        "\n",
        "<img src=\"https://emergentmath.files.wordpress.com/2011/03/sheen2.png\" alt=\"At 4:07 pm on 3/1/11, Charlie Sheen had 112497 followers.\" height=\"234\" width=\"486\"></img>\n",
        "\n",
        "<img src=\"https://emergentmath.files.wordpress.com/2011/03/sheen141.png\" alt=\"At 6:12 pm on 3/1/11, Charlie Sheen had 261894 followers.  He tweeted, 'Winning! Choose your Vice...'\" height=\"234\" width=\"486\">\n"
      ]
    },
    {
      "cell_type": "code",
      "metadata": {
        "id": "KIv801DSGPey",
        "colab_type": "code",
        "cellView": "form",
        "colab": {}
      },
      "source": [
        "#@title Press the \"play\" button to see how many Twitter followers Charlie Sheen had on March 1, 2011\n",
        "import pandas as pd\n",
        "from datetime import datetime\n",
        "import matplotlib.pyplot as plt\n",
        "\n",
        "# Headings\n",
        "MINS_ELAPSED = \"Minutes since 3pm\"\n",
        "FOLLOWERS = \"Follower Count\"\n",
        "\n",
        "# Load data of how many followers Charlie Sheen had\n",
        "# since starting his Twitter account in 2011\n",
        "# Source: https://emergentmath.com/2011/03/03/can-you-predict-how-many-followers-charliesheen-has-right-now-exponential-growth-part-1/\n",
        "\n",
        "datetimes_and_follower_counts=[\n",
        "(\"2011-03-01 4:04 PM\",109099),\n",
        "(\"2011-03-01 4:07 PM\",112497),\n",
        "(\"2011-03-01 4:09 PM\",116143),\n",
        "(\"2011-03-01 4:12 PM\",120195),\n",
        "(\"2011-03-01 4:14 PM\",122901),\n",
        "(\"2011-03-01 4:18 PM\",127643),\n",
        "(\"2011-03-01 4:21 PM\",129793),\n",
        "(\"2011-03-01 4:24 PM\",133357),\n",
        "(\"2011-03-01 4:29 PM\",140215),\n",
        "(\"2011-03-01 4:32 PM\",144103),\n",
        "(\"2011-03-01 4:38 PM\",149528),\n",
        "(\"2011-03-01 4:44 PM\",153848),\n",
        "(\"2011-03-01 6:21 PM\",261894),\n",
        "(\"2011-03-01 6:24 PM\",275638),\n",
        "(\"2011-03-01 6:49 PM\",302077),\n",
        "(\"2011-03-01 7:13 PM\",324595),\n",
        "(\"2011-03-01 7:38 PM\",348955),\n",
        "(\"2011-03-01 8:45 PM\",429904),\n",
        "(\"2011-03-02 6:45 AM\",729703),\n",
        "(\"2011-03-02 8:51 AM\",799008),\n",
        "(\"2011-03-02 9:36 AM\",820538),\n",
        "(\"2011-03-02 10:23 AM\",841940),\n",
        "(\"2011-03-02 11:16 AM\",865972),\n",
        "(\"2011-03-02 12:43 PM\",902291),\n",
        "(\"2011-03-02 1:47 PM\",926557),\n",
        "(\"2011-03-02 3:09 PM\",957259),\n",
        "(\"2011-03-03 11:31 AM\", 1297483),\n",
        "(\"2011-03-04 9:43 AM\", 1550073)\n",
        "# As I write this code, @charliesheen has 10.5 million followers,\n",
        "# but including that data point distorts the graph.\n",
        "# (\"2020-09-10 7:03 PM\", 10500000)\n",
        "]\n",
        "\n",
        "# Parse out datetimes and follower counts\n",
        "zipped_dts_and_fcs = list(zip(*datetimes_and_follower_counts))\n",
        "# Parse datetime objects from strings\n",
        "# dts = datetimes\n",
        "dts=[datetime.strptime(x, '%Y-%m-%d %I:%M %p') for x in zipped_dts_and_fcs[0]]\n",
        "fcs=zipped_dts_and_fcs[1] # follower counts\n",
        "assert len(dts) == len(fcs) # Make sure we have the same number of each\n",
        "\n",
        "# Store datetimes and follower counts in pandas Dataframe\n",
        "follower_data = pd.DataFrame(data=fcs, # follower ocunts\n",
        "                             index=dts, # datetimes\n",
        "                             columns=[FOLLOWERS])\n",
        "# Calculate minutes since 3pm on March 1st\n",
        "start_time=datetime(2011, 3, 1, hour = 15, minute = 0)\n",
        "minutes = (follower_data.index - start_time).total_seconds() / 60\n",
        "follower_data[MINS_ELAPSED] = minutes\n",
        "# Reorder columns\n",
        "follower_data = follower_data[[MINS_ELAPSED, FOLLOWERS]]\n",
        "\n",
        "\n",
        "# Create view for March 1 alone\n",
        "march1 = follower_data.truncate(after='2011-03-02') # ie 3/1/11 only\n",
        "print(march1)\n",
        "\n",
        "# Graph the March 1 data\n",
        "plt.plot(march1[MINS_ELAPSED], march1[FOLLOWERS], 'o')\n",
        "plt.xlabel('Minutes since 3pm on 3/1/11')\n",
        "plt.ylabel(FOLLOWERS)\n",
        "plt.show()"
      ],
      "execution_count": null,
      "outputs": []
    },
    {
      "cell_type": "markdown",
      "metadata": {
        "id": "rLx1Ve_E8nrK",
        "colab_type": "text"
      },
      "source": [
        "1. What type of function would best fit this data? Would this data be best represented as a linear function / arithmetic sequence? Exponential function / geometric sequence? "
      ]
    },
    {
      "cell_type": "markdown",
      "metadata": {
        "id": "shCfJnvym0c2",
        "colab_type": "text"
      },
      "source": [
        "Mr. Krall stopped checking Twitter around 8:45 pm, and started again the next day at 6:45 am. (Because why not?) Press the \"play\" button to see the data from both days."
      ]
    },
    {
      "cell_type": "code",
      "metadata": {
        "id": "hXezpkW7YoaO",
        "colab_type": "code",
        "cellView": "both",
        "colab": {
          "base_uri": "https://localhost:8080/",
          "height": 747
        },
        "outputId": "f2419691-8d2b-47a1-b518-16fd8a3473c7"
      },
      "source": [
        "#@title Press the \"play\" button to see how many Twitter followers Charlie Sheen had on March 1 and March 2, 2011\n",
        "\n",
        "# Create view for both March 1 and March 2\n",
        "march2 = follower_data.truncate(after='2011-03-03') # ie 3/1 and 3/2\n",
        "#Display data for both days\n",
        "print(march2)\n",
        "# Graph all the data\n",
        "plt.plot(march2[MINS_ELAPSED], march2[FOLLOWERS], 'o')\n",
        "plt.xlabel('Minutes since 3pm on 3/1/11')\n",
        "plt.ylabel(FOLLOWERS)\n",
        "plt.show()"
      ],
      "execution_count": null,
      "outputs": [
        {
          "output_type": "stream",
          "text": [
            "                     Minutes since 3pm  Follower Count\n",
            "2011-03-01 16:04:00               64.0          109099\n",
            "2011-03-01 16:07:00               67.0          112497\n",
            "2011-03-01 16:09:00               69.0          116143\n",
            "2011-03-01 16:12:00               72.0          120195\n",
            "2011-03-01 16:14:00               74.0          122901\n",
            "2011-03-01 16:18:00               78.0          127643\n",
            "2011-03-01 16:21:00               81.0          129793\n",
            "2011-03-01 16:24:00               84.0          133357\n",
            "2011-03-01 16:29:00               89.0          140215\n",
            "2011-03-01 16:32:00               92.0          144103\n",
            "2011-03-01 16:38:00               98.0          149528\n",
            "2011-03-01 16:44:00              104.0          153848\n",
            "2011-03-01 18:21:00              201.0          261894\n",
            "2011-03-01 18:24:00              204.0          275638\n",
            "2011-03-01 18:49:00              229.0          302077\n",
            "2011-03-01 19:13:00              253.0          324595\n",
            "2011-03-01 19:38:00              278.0          348955\n",
            "2011-03-01 20:45:00              345.0          429904\n",
            "2011-03-02 06:45:00              945.0          729703\n",
            "2011-03-02 08:51:00             1071.0          799008\n",
            "2011-03-02 09:36:00             1116.0          820538\n",
            "2011-03-02 10:23:00             1163.0          841940\n",
            "2011-03-02 11:16:00             1216.0          865972\n",
            "2011-03-02 12:43:00             1303.0          902291\n",
            "2011-03-02 13:47:00             1367.0          926557\n",
            "2011-03-02 15:09:00             1449.0          957259\n"
          ],
          "name": "stdout"
        },
        {
          "output_type": "display_data",
          "data": {
            "image/png": "[encoded data removed]",
            "text/plain": [
              "<Figure size 432x288 with 1 Axes>"
            ]
          },
          "metadata": {
            "tags": [],
            "needs_background": "light"
          }
        }
      ]
    },
    {
      "cell_type": "markdown",
      "metadata": {
        "id": "y-J6yUHz9GfF",
        "colab_type": "text"
      },
      "source": [
        "2. Now that we have more data, does your answer from question 1 still seem like the best type of function to model this data? Why or why not? If you answer has changed, how would you model this data now?"
      ]
    },
    {
      "cell_type": "markdown",
      "metadata": {
        "id": "og2HFnIW5NE7",
        "colab_type": "text"
      },
      "source": [
        "Mr. Krall later added two more data points: \n",
        "\n",
        "*   On March 3 at 11:31 AM, Charlie Sheen had 1,297,483 followers. \n",
        "*   On March 4 at 9:43 AM, Charlie Sheen had 1,550,073 followers\n",
        "\n"
      ]
    },
    {
      "cell_type": "code",
      "metadata": {
        "id": "vmWgWK5j48LL",
        "colab_type": "code",
        "cellView": "both",
        "colab": {
          "base_uri": "https://localhost:8080/",
          "height": 793
        },
        "outputId": "53cfb465-6821-4c8c-eccf-e5d033af0a8a"
      },
      "source": [
        "#@title Press the \"play\" button to see how many Twitter followers Charlie Sheen had from March 1 to March 4, 2011\n",
        "\n",
        "#Display data for all days\n",
        "print(follower_data)\n",
        "# Graph all the data\n",
        "plt.plot(follower_data[MINS_ELAPSED], follower_data[FOLLOWERS], 'o')\n",
        "plt.xlabel('Minutes since 3pm on 3/1/11')\n",
        "plt.ylabel(FOLLOWERS)\n",
        "plt.show()"
      ],
      "execution_count": null,
      "outputs": [
        {
          "output_type": "stream",
          "text": [
            "                     Minutes since 3pm  Follower Count\n",
            "2011-03-01 16:04:00               64.0          109099\n",
            "2011-03-01 16:07:00               67.0          112497\n",
            "2011-03-01 16:09:00               69.0          116143\n",
            "2011-03-01 16:12:00               72.0          120195\n",
            "2011-03-01 16:14:00               74.0          122901\n",
            "2011-03-01 16:18:00               78.0          127643\n",
            "2011-03-01 16:21:00               81.0          129793\n",
            "2011-03-01 16:24:00               84.0          133357\n",
            "2011-03-01 16:29:00               89.0          140215\n",
            "2011-03-01 16:32:00               92.0          144103\n",
            "2011-03-01 16:38:00               98.0          149528\n",
            "2011-03-01 16:44:00              104.0          153848\n",
            "2011-03-01 18:21:00              201.0          261894\n",
            "2011-03-01 18:24:00              204.0          275638\n",
            "2011-03-01 18:49:00              229.0          302077\n",
            "2011-03-01 19:13:00              253.0          324595\n",
            "2011-03-01 19:38:00              278.0          348955\n",
            "2011-03-01 20:45:00              345.0          429904\n",
            "2011-03-02 06:45:00              945.0          729703\n",
            "2011-03-02 08:51:00             1071.0          799008\n",
            "2011-03-02 09:36:00             1116.0          820538\n",
            "2011-03-02 10:23:00             1163.0          841940\n",
            "2011-03-02 11:16:00             1216.0          865972\n",
            "2011-03-02 12:43:00             1303.0          902291\n",
            "2011-03-02 13:47:00             1367.0          926557\n",
            "2011-03-02 15:09:00             1449.0          957259\n",
            "2011-03-03 11:31:00             2671.0         1297483\n",
            "2011-03-04 09:43:00             4003.0         1550073\n"
          ],
          "name": "stdout"
        },
        {
          "output_type": "display_data",
          "data": {
            "image/png": "[encoded data removed]",
            "text/plain": [
              "<Figure size 432x288 with 1 Axes>"
            ]
          },
          "metadata": {
            "tags": [],
            "needs_background": "light"
          }
        }
      ]
    },
    {
      "cell_type": "markdown",
      "metadata": {
        "id": "naNR6X3E9SN_",
        "colab_type": "text"
      },
      "source": [
        "3. Now that we have more data, does your answer from question 2 still seem like the best type of function to model this data? Why or why not? If you answer has changed, how would you model this data now?"
      ]
    },
    {
      "cell_type": "markdown",
      "metadata": {
        "id": "QAXyZxD997GO",
        "colab_type": "text"
      },
      "source": [
        "It looks like, as time goes on, Charlie Sheen gains fewer followers per day. Let's analyze the **slope** of this line over time; that might help us predict where his follower count is heading!\n",
        "\n",
        "Let's try to create a graph of  (Change-in-followers per minute) vs. (time)."
      ]
    },
    {
      "cell_type": "code",
      "metadata": {
        "id": "0OFuRDi4-RdD",
        "colab_type": "code",
        "cellView": "both",
        "colab": {
          "base_uri": "https://localhost:8080/",
          "height": 279
        },
        "outputId": "74d3955f-8d40-4a4a-e22d-a175b8992fe0"
      },
      "source": [
        "#@title Press the \"Play\" button to see how the slope (change-in-followers per minute) changes over time\n",
        "DELTAS = \"Change in Followers\"\n",
        "CHANGE_PER_MIN = \"Change in Followers Per Minute\"\n",
        "# DELTAS = current follower count - previous follower count\n",
        "follower_data[DELTAS] = follower_data[FOLLOWERS] -\\\n",
        "                         follower_data[FOLLOWERS].shift(1)\n",
        "# CHANGE_PER_MIN = change in followers / minutes elapsed since last measurement\n",
        "follower_data[CHANGE_PER_MIN] = follower_data[DELTAS].div(\n",
        "    follower_data[MINS_ELAPSED] - follower_data[MINS_ELAPSED].shift(1))\n",
        "# Plot the slopes\n",
        "plt.plot(follower_data[MINS_ELAPSED],\n",
        "         follower_data[CHANGE_PER_MIN],\n",
        "         'o')\n",
        "plt.xlabel(\"Minutes since 3pm on 3/1/2011\")\n",
        "plt.ylabel(\"Change in follower count per minute\")\n",
        "plt.show()"
      ],
      "execution_count": 36,
      "outputs": [
        {
          "output_type": "display_data",
          "data": {
            "image/png": "[encoded data removed]",
            "text/plain": [
              "<Figure size 432x288 with 1 Axes>"
            ]
          },
          "metadata": {
            "tags": [],
            "needs_background": "light"
          }
        }
      ]
    },
    {
      "cell_type": "markdown",
      "metadata": {
        "id": "EFXxqSoOE-Sj",
        "colab_type": "text"
      },
      "source": [
        "3. The y-values get smaller and smaller as time goes on. Why is that? Explain what this graph \"means.\"\n",
        "\n",
        "4. What type of function might we use to model this data?"
      ]
    }
  ]
}