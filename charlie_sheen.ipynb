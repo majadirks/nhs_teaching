{
  "nbformat": 4,
  "nbformat_minor": 0,
  "metadata": {
    "colab": {
      "name": "charlie_sheen.ipynb",
      "provenance": [],
      "collapsed_sections": [],
      "authorship_tag": "ABX9TyNczMzqABGYbZwP2e1K8zOf",
      "include_colab_link": true
    },
    "kernelspec": {
      "name": "python3",
      "display_name": "Python 3"
    }
  },
  "cells": [
    {
      "cell_type": "markdown",
      "metadata": {
        "id": "view-in-github",
        "colab_type": "text"
      },
      "source": [
        "<a href=\"https://colab.research.google.com/github/majadirks/nhs_teaching/blob/master/charlie_sheen.ipynb\" target=\"_parent\"><img src=\"https://colab.research.google.com/assets/colab-badge.svg\" alt=\"Open In Colab\"/></a>"
      ]
    },
    {
      "cell_type": "markdown",
      "metadata": {
        "id": "Hp1j11eeXPcn",
        "colab_type": "text"
      },
      "source": [
        "On March 1, 2011, around 3pm, Charlie Sheen started a Twitter account. The math teacher Geoff Krall [decided to track how many followers he had](https://emergentmath.com/2011/03/03/can-you-predict-how-many-followers-charliesheen-has-right-now-exponential-growth-part-1/), because that's what math teachers do."
      ]
    },
    {
      "cell_type": "code",
      "metadata": {
        "id": "KIv801DSGPey",
        "colab_type": "code",
        "cellView": "form",
        "colab": {}
      },
      "source": [
        "#@title Press the \"play\" button to see how many Twitter followers Charlie Sheen had on March 1, 2011\n",
        "import pandas as pd\n",
        "from datetime import datetime\n",
        "import matplotlib.pyplot as plt\n",
        "\n",
        "# Headings\n",
        "MINS_ELAPSED = \"Minutes since 3pm\"\n",
        "FOLLOWERS = \"Follower Count\"\n",
        "\n",
        "# Load data of how many followers Charlie Sheen had\n",
        "# since starting his Twitter account in 2011\n",
        "# Source: https://emergentmath.com/2011/03/03/can-you-predict-how-many-followers-charliesheen-has-right-now-exponential-growth-part-1/\n",
        "\n",
        "datetimes_and_follower_counts=[\n",
        "(\"2011-03-01 4:04 PM\",109099),\n",
        "(\"2011-03-01 4:07 PM\",112497),\n",
        "(\"2011-03-01 4:09 PM\",116143),\n",
        "(\"2011-03-01 4:12 PM\",120195),\n",
        "(\"2011-03-01 4:14 PM\",122901),\n",
        "(\"2011-03-01 4:18 PM\",127643),\n",
        "(\"2011-03-01 4:21 PM\",129793),\n",
        "(\"2011-03-01 4:24 PM\",133357),\n",
        "(\"2011-03-01 4:29 PM\",140215),\n",
        "(\"2011-03-01 4:32 PM\",144103),\n",
        "(\"2011-03-01 4:38 PM\",149528),\n",
        "(\"2011-03-01 4:44 PM\",153848),\n",
        "(\"2011-03-01 6:21 PM\",261894),\n",
        "(\"2011-03-01 6:24 PM\",275638),\n",
        "(\"2011-03-01 6:49 PM\",302077),\n",
        "(\"2011-03-01 7:13 PM\",324595),\n",
        "(\"2011-03-01 7:38 PM\",348955),\n",
        "(\"2011-03-01 8:45 PM\",429904),\n",
        "(\"2011-03-02 6:45 AM\",729703),\n",
        "(\"2011-03-02 8:51 AM\",799008),\n",
        "(\"2011-03-02 9:36 AM\",820538),\n",
        "(\"2011-03-02 10:23 AM\",841940),\n",
        "(\"2011-03-02 11:16 AM\",865972),\n",
        "(\"2011-03-02 12:43 PM\",902291),\n",
        "(\"2011-03-02 1:47 PM\",926557),\n",
        "(\"2011-03-02 3:09 PM\",957259),\n",
        "(\"2011-03-03 11:31 AM\", 1297483),\n",
        "(\"2011-03-04 9:43 AM\", 1550073)\n",
        "# As I write this code, @charliesheen has 10.5 million followers,\n",
        "# but including that data point distorts the graph.\n",
        "# (\"2020-09-10 7:03 PM\", 10500000)\n",
        "]\n",
        "\n",
        "# Parse out datetimes and follower counts\n",
        "zipped_dts_and_fcs = list(zip(*datetimes_and_follower_counts))\n",
        "# Parse datetime objects from strings\n",
        "dts=[datetime.strptime(x, '%Y-%m-%d %I:%M %p') for x in zipped_dts_and_fcs[0]]\n",
        "fcs=zipped_dts_and_fcs[1]\n",
        "assert len(dts) == len(fcs) # Make sure we have the same number of each\n",
        "\n",
        "# Store datetimes and follower counts in pandas Dataframe\n",
        "\n",
        "follower_data = pd.DataFrame(data=fcs,\n",
        "                             index=dts,\n",
        "                             columns=[FOLLOWERS])\n",
        "# Calculate minutes since 4pm on March 1st\n",
        "start_time=datetime(2011, 3, 1, hour = 15, minute = 0)\n",
        "minutes = (follower_data.index - start_time).total_seconds() / 60\n",
        "follower_data[MINS_ELAPSED] = minutes\n",
        "# Reorder columns\n",
        "follower_data = follower_data[[MINS_ELAPSED, FOLLOWERS]]\n",
        "\n",
        "\n",
        "# Create view for March 1 alone (minutes < 500)\n",
        "march1 = follower_data[follower_data[MINS_ELAPSED] < 500]\n",
        "print(march1)\n",
        "# Create view for March 1 and March 2\n",
        "march2 = follower_data[follower_data[MINS_ELAPSED] < 1500]\n",
        "\n",
        "# Graph the March 1 data\n",
        "plt.plot(march1[MINS_ELAPSED], march1[FOLLOWERS], 'o')\n",
        "plt.xlabel('Minutes since 3pm on 3/1/11')\n",
        "plt.ylabel(FOLLOWERS)\n",
        "plt.show()"
      ],
      "execution_count": null,
      "outputs": []
    },
    {
      "cell_type": "markdown",
      "metadata": {
        "id": "shCfJnvym0c2",
        "colab_type": "text"
      },
      "source": [
        "Mr. Krall stopped checking Twitter around 8:45 pm, and started again the next day at 6:45 am. (Because why not?) Press the \"play\" button to see the data from both days."
      ]
    },
    {
      "cell_type": "code",
      "metadata": {
        "id": "hXezpkW7YoaO",
        "colab_type": "code",
        "cellView": "form",
        "colab": {}
      },
      "source": [
        "#@title Press the \"play\" button to see how many Twitter followers Charlie Sheen had on March 1 and March 2, 2011\n",
        "\n",
        "# Create view for data from March 1 and March 2\n",
        "march2 = follower_data[follower_data[MINS_ELAPSED] < 1500]\n",
        "\n",
        "#Display data for both days\n",
        "print(march2)\n",
        "# Graph all the data\n",
        "plt.plot(march2[MINS_ELAPSED], march2[FOLLOWERS], 'o')\n",
        "plt.xlabel('Minutes since 3pm on 3/1/11')\n",
        "plt.ylabel(FOLLOWERS)\n",
        "plt.show()"
      ],
      "execution_count": null,
      "outputs": []
    },
    {
      "cell_type": "markdown",
      "metadata": {
        "id": "og2HFnIW5NE7",
        "colab_type": "text"
      },
      "source": [
        "Mr. Krall later added two more data points: \n",
        "\n",
        "*   On March 3 at 11:31 AM, Charlie Sheen had 1,297,483 followers. \n",
        "*   On March 4 at 9:43 AM, Charlie Sheen had 1,550,073 followers\n",
        "\n"
      ]
    },
    {
      "cell_type": "code",
      "metadata": {
        "id": "vmWgWK5j48LL",
        "colab_type": "code",
        "colab": {},
        "cellView": "form"
      },
      "source": [
        "#@title Press the \"play\" button to see how many Twitter followers Charlie Sheen had from March 1 to March 4, 2011\n",
        "\n",
        "#Display data for all days\n",
        "print(follower_data)\n",
        "# Graph all the data\n",
        "plt.plot(follower_data[MINS_ELAPSED], follower_data[FOLLOWERS], 'o')\n",
        "plt.xlabel('Minutes since 3pm on 3/1/11')\n",
        "plt.ylabel(FOLLOWERS)\n",
        "plt.show()"
      ],
      "execution_count": null,
      "outputs": []
    }
  ]
}